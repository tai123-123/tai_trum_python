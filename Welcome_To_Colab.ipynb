{
  "cells": [
    {
      "cell_type": "markdown",
      "metadata": {
        "id": "view-in-github",
        "colab_type": "text"
      },
      "source": [
        "<a href=\"https://colab.research.google.com/github/tai123-123/tai_trum_python/blob/main/Welcome_To_Colab.ipynb\" target=\"_parent\"><img src=\"https://colab.research.google.com/assets/colab-badge.svg\" alt=\"Open In Colab\"/></a>"
      ]
    },
    {
      "cell_type": "code",
      "source": [
        "def calculate_BMI(height, weight):\n",
        "  BMI = height/(weight**2)\n",
        "  return BMI\n",
        "\n",
        "def display(BMI):\n",
        "  if(BMI<18.5):\n",
        "    print(\"Your BMI is falls\")\n",
        "  elif(BMI<25):\n",
        "    print(\"Your BMI is normal\")\n",
        "  elif(BMI<30):\n",
        "    print(\"Your BMI is overweight\")\n",
        "  else:\n",
        "    print(\"Your BMI is obese\")\n",
        "\n",
        "height = input(\"Enter your height in meters: \")\n",
        "weight = input(\"Enter your weight in kilograms: \")\n",
        "\n",
        "BMI = calculate_BMI(height, weight)\n",
        "display(BMI)"
      ],
      "metadata": {
        "id": "gHDz2cVwlXFL"
      },
      "execution_count": 13,
      "outputs": []
    },
    {
      "cell_type": "code",
      "source": [
        "def convert_temperature():\n",
        "    celsius = float(input(\"Enter temperature in Celsius: \"))\n",
        "    fahrenheit = (celsius * 9/5) + 32\n",
        "    print(f\"{celsius} degrees Celsius is equal to {fahrenheit} degrees Fahrenheit.\")\n",
        "\n",
        "convert_temperature()"
      ],
      "metadata": {
        "colab": {
          "base_uri": "https://localhost:8080/"
        },
        "id": "d_hMAyDWsQCF",
        "outputId": "85277980-0b5a-4b74-e6e4-338e579f0736"
      },
      "execution_count": 20,
      "outputs": [
        {
          "output_type": "stream",
          "name": "stdout",
          "text": [
            "Enter temperature in Celsius: 36\n",
            "36.0 degrees Celsius is equal to 96.8 degrees Fahrenheit.\n"
          ]
        }
      ]
    },
    {
      "cell_type": "code",
      "source": [
        "def calculator(num1, num2, operator):\n",
        "    if operator == '+':\n",
        "        result = num1 + num2\n",
        "    elif operator == '-':\n",
        "        result = num1 - num2\n",
        "    elif operator == '*':\n",
        "        result = num1 * num2\n",
        "    elif operator == '/':\n",
        "        if num2 == 0:\n",
        "            return \"Lỗi: Không thể chia cho 0!\"\n",
        "        result = num1 / num2\n",
        "    elif operator == '%':\n",
        "        if num2 == 0:\n",
        "            return \"Lỗi: Không thể lấy dư với 0!\"\n",
        "        result = num1 % num2\n",
        "    else:\n",
        "        return f\"Lỗi: Toán tử '{operator}' không hỗ trợ!\"\n",
        "    return f\"Kết quả: {num1} {operator} {num2} = {result}\"\n",
        "\n",
        "\n",
        "print(calculator(6, 8, '+'))  # Kết quả: 6 + 8 = 14\n",
        "print(calculator(10, 5, '-')) # Kết quả: 10 - 5 = 5\n",
        "print(calculator(6, 3, '/'))  # Kết quả: 6 / 3 = 2.0\n",
        "print(calculator(10, 0, '/')) # Kết quả: Lỗi: Không thể chia cho 0!\n",
        "print(calculator(10, 3, '%')) # Kết quả: 10 % 3 = 1\n"
      ],
      "metadata": {
        "colab": {
          "base_uri": "https://localhost:8080/"
        },
        "id": "ZzP-d1OsyFpq",
        "outputId": "1a2522a1-6c3d-4214-d82a-b515c0546632"
      },
      "execution_count": 22,
      "outputs": [
        {
          "output_type": "stream",
          "name": "stdout",
          "text": [
            "Kết quả: 6 + 8 = 14\n",
            "Kết quả: 10 - 5 = 5\n",
            "Kết quả: 6 / 3 = 2.0\n",
            "Lỗi: Không thể chia cho 0!\n",
            "Kết quả: 10 % 3 = 1\n"
          ]
        }
      ]
    },
    {
      "cell_type": "markdown",
      "source": [],
      "metadata": {
        "id": "jpY0eCrezGze"
      }
    },
    {
      "cell_type": "code",
      "source": [
        "import random\n",
        "\n",
        "def coin_toss():\n",
        "    try:\n",
        "        prob_head = float(input(\"Enter the probability of heads (between 0 and 1): \"))\n",
        "        if not 0 <= prob_head <= 1:\n",
        "            print(\"Probability must be between 0 and 1.\")\n",
        "            return\n",
        "\n",
        "        toss = random.random()  # Generates a float between 0 and 1\n",
        "        print(\"toss from random : \", toss)\n",
        "        if toss < prob_head:\n",
        "            result = \"heads\"\n",
        "        else:\n",
        "            result = \"tails\"\n",
        "\n",
        "        print(f\"The result of the coin toss is: {result}\")\n",
        "        return result\n",
        "\n",
        "    except ValueError:\n",
        "        print(\"Invalid input. Please enter a number between 0 and 1.\")\n",
        "\n",
        "coin_toss()"
      ],
      "metadata": {
        "id": "q9n7k9yozMyt",
        "outputId": "ca9f30f5-7862-4fc1-c31a-d945199efae7",
        "colab": {
          "base_uri": "https://localhost:8080/",
          "height": 88
        }
      },
      "execution_count": 28,
      "outputs": [
        {
          "output_type": "stream",
          "name": "stdout",
          "text": [
            "Enter the probability of heads (between 0 and 1): 0.6\n",
            "toss from random :  0.7013660907279119\n",
            "The result of the coin toss is: tails\n"
          ]
        },
        {
          "output_type": "execute_result",
          "data": {
            "text/plain": [
              "'tails'"
            ],
            "application/vnd.google.colaboratory.intrinsic+json": {
              "type": "string"
            }
          },
          "metadata": {},
          "execution_count": 28
        }
      ]
    }
  ],
  "metadata": {
    "colab": {
      "name": "Welcome To Colab",
      "toc_visible": true,
      "provenance": [],
      "include_colab_link": true
    },
    "kernelspec": {
      "display_name": "Python 3",
      "name": "python3"
    }
  },
  "nbformat": 4,
  "nbformat_minor": 0
}