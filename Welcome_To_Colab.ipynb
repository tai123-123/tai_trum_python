{
  "cells": [
    {
      "cell_type": "markdown",
      "metadata": {
        "id": "view-in-github",
        "colab_type": "text"
      },
      "source": [
        "<a href=\"https://colab.research.google.com/github/tai123-123/tai_trum_python/blob/main/Welcome_To_Colab.ipynb\" target=\"_parent\"><img src=\"https://colab.research.google.com/assets/colab-badge.svg\" alt=\"Open In Colab\"/></a>"
      ]
    },
    {
      "cell_type": "code",
      "source": [
        "numbers=list(range(1,10))\n",
        "print(\" list of number:\", numbers)\n",
        "print(\" interating over the list:\")\n",
        "for num in numbers:\n",
        "    print(num)\n",
        "phantu_first = numbers[0]\n",
        "print(\" phan tu dau tien:\", phantu_first)\n",
        "numbers[1]= 20\n",
        "print(\" list sau khi thay doi:\", numbers)\n",
        "check_number =5\n",
        "if check_number in numbers:\n",
        "    print(f\"{check_number} co trong list\")\n",
        "else:\n",
        "    print(f\"{check_number} khong co trong list\")\n",
        ""
      ],
      "metadata": {
        "id": "ctOFvzPjb2cH"
      },
      "execution_count": null,
      "outputs": []
    },
    {
      "cell_type": "code",
      "source": [
        "with open('lecture08.txt', 'r') as file:\n",
        "    content = file.read()\n",
        "    print(content)"
      ],
      "metadata": {
        "colab": {
          "base_uri": "https://localhost:8080/"
        },
        "id": "x_mNBVSZhKdX",
        "outputId": "7dd0d355-219e-4c15-fe0a-9fee2a2b539f"
      },
      "execution_count": 6,
      "outputs": [
        {
          "output_type": "stream",
          "name": "stdout",
          "text": [
            "lecture08 \n",
            "Tóm tắt\n",
            "\n",
            "• Gỡ lỗi: Sử dụng điểm ngắt, từng bước trong mã và kiểm tra các biến\n",
            "để tìm và sửa lỗi.\n",
            "• Mẹo gỡ lỗi: Sử dụng hiệu quả các công cụ như Step Over, Step Into và Watch\n",
            "windows trong Visual Studio.\n",
            "• Tiêu chuẩn mã hóa: Áp dụng các quy ước đặt tên, thực hành chú thích và định dạng để có mã sạch, tự ghi chú.\n",
            "• Bố cục: Đảm bảo khả năng đọc thông qua việc căn chỉnh, giãn cách và\n",
            "nhóm hợp lý các khối mã.\n",
            "\n",
            "\n",
            "\n",
            "\n",
            "cccjafhgaywah\n"
          ]
        }
      ]
    },
    {
      "cell_type": "code",
      "source": [
        "with open('lecture08.txt', 'w') as f:\n",
        "  f.write(\" good mỏning vietnam\")\n",
        "with open('lecture08.txt', 'r') as f:\n",
        "  content = f.read()\n",
        "  print(content)\n",
        "\n",
        "\n",
        "\n",
        "\n"
      ],
      "metadata": {
        "colab": {
          "base_uri": "https://localhost:8080/"
        },
        "id": "Rys9CD_klaRI",
        "outputId": "0a9d084d-e236-444f-cc50-804d77fe265e"
      },
      "execution_count": 20,
      "outputs": [
        {
          "output_type": "stream",
          "name": "stdout",
          "text": [
            " good mỏning vietnam\n"
          ]
        }
      ]
    }
  ],
  "metadata": {
    "colab": {
      "name": "Welcome To Colab",
      "provenance": [],
      "include_colab_link": true
    },
    "kernelspec": {
      "display_name": "Python 3",
      "name": "python3"
    }
  },
  "nbformat": 4,
  "nbformat_minor": 0
}