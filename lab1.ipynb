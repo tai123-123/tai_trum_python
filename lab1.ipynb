{
  "nbformat": 4,
  "nbformat_minor": 0,
  "metadata": {
    "colab": {
      "provenance": [],
      "authorship_tag": "ABX9TyPubwCeujVTY45gFYr8cF7/",
      "include_colab_link": true
    },
    "kernelspec": {
      "name": "python3",
      "display_name": "Python 3"
    },
    "language_info": {
      "name": "python"
    }
  },
  "cells": [
    {
      "cell_type": "markdown",
      "metadata": {
        "id": "view-in-github",
        "colab_type": "text"
      },
      "source": [
        "<a href=\"https://colab.research.google.com/github/tai123-123/tai_trum_python/blob/main/lab1.ipynb\" target=\"_parent\"><img src=\"https://colab.research.google.com/assets/colab-badge.svg\" alt=\"Open In Colab\"/></a>"
      ]
    },
    {
      "cell_type": "code",
      "execution_count": 1,
      "metadata": {
        "colab": {
          "base_uri": "https://localhost:8080/"
        },
        "id": "MOgmkyfTjmCa",
        "outputId": "026fb238-d6c9-4646-fe0f-74828711ff17"
      },
      "outputs": [
        {
          "output_type": "stream",
          "name": "stdout",
          "text": [
            "hello world\n"
          ]
        }
      ],
      "source": [
        "print(\"hello world\")"
      ]
    },
    {
      "cell_type": "code",
      "source": [
        "def calculate_statistics():\n",
        "    while True:\n",
        "        try:\n",
        "            # get the three input values from the user\n",
        "            num1 = float(input(\"Enter the first number: \"))\n",
        "            num2 = float(input(\"Enter the second number: \"))\n",
        "            num3 = float(input(\"Enter the third number: \"))\n",
        "\n",
        "            # calculate the average\n",
        "            average = (num1 + num2 + num3) / 3\n",
        "\n",
        "            # calculate the median\n",
        "            if num1 <= num2 <= num3 or num3 <= num2 <= num1:\n",
        "                median = num2\n",
        "            elif num2 <= num1 <= num3 or num3 <= num1 <= num2:\n",
        "                median = num1\n",
        "            else:\n",
        "                median = num3\n",
        "\n",
        "            # calculate the range\n",
        "            range_ = max(num1, num2, num3) - min(num1, num2, num3)\n",
        "\n",
        "            # print the results\n",
        "            print(\"\\nAverage:\", average)\n",
        "            print(\"Median:\", median)\n",
        "            print(\"Range:\", range_)\n",
        "\n",
        "            break  # exit the loop if successful\n",
        "\n",
        "        except ValueError:\n",
        "            print(\"Invalid input. Please enter a valid number.\")\n",
        "calculate_statistics()\n"
      ],
      "metadata": {
        "colab": {
          "base_uri": "https://localhost:8080/"
        },
        "id": "E2qmwbxWp3k5",
        "outputId": "89b12901-1705-493b-8c2e-65a2156fe5d0"
      },
      "execution_count": 2,
      "outputs": [
        {
          "output_type": "stream",
          "name": "stdout",
          "text": [
            "Enter the first number: 2\n",
            "Enter the second number: 3\n",
            "Enter the third number: 4\n",
            "\n",
            "Average: 3.0\n",
            "Median: 3.0\n",
            "Range: 2.0\n"
          ]
        }
      ]
    }
  ]
}